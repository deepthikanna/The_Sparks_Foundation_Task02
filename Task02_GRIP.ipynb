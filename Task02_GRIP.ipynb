{
  "nbformat": 4,
  "nbformat_minor": 0,
  "metadata": {
    "colab": {
      "name": "Task02_GRIP.ipynb",
      "provenance": [],
      "authorship_tag": "ABX9TyNGV2USZXkawQfJbNvt0W5P",
      "include_colab_link": true
    },
    "kernelspec": {
      "name": "python3",
      "display_name": "Python 3"
    }
  },
  "cells": [
    {
      "cell_type": "markdown",
      "metadata": {
        "id": "view-in-github",
        "colab_type": "text"
      },
      "source": [
        "<a href=\"https://colab.research.google.com/github/deepthikanna/The_Sparks_Foundation_Task02/blob/main/Task02_GRIP.ipynb\" target=\"_parent\"><img src=\"https://colab.research.google.com/assets/colab-badge.svg\" alt=\"Open In Colab\"/></a>"
      ]
    },
    {
      "cell_type": "markdown",
      "metadata": {
        "id": "86oQ9MlFc7Sv"
      },
      "source": [
        "### NAME   : KRISHNA DEEPTHI K  \n",
        "\n",
        "GRADUATE ROTATIONAL INTERNSHIP PROGRAM\n",
        "## **THE SPARKS FOUNDATION**                                                                                                                                                                                                                                                                                \n",
        "DATA SCIENCE AND BUSINESS ANALYTICS TASKS\n",
        "\n",
        "TASK 02 : PREDICTION USING UNSUPERVISED ML\n",
        "\n",
        "    From the iris dataset, predict the optimum number of clusters and represent it visually using PYTHON SCIKIT LEARN."
      ]
    },
    {
      "cell_type": "markdown",
      "metadata": {
        "id": "jNnhImiZdCRJ"
      },
      "source": [
        "*IMPORT*\n"
      ]
    },
    {
      "cell_type": "code",
      "metadata": {
        "id": "izhnzNQOc1jB"
      },
      "source": [
        "import numpy as np\n",
        "import pandas as pd\n",
        "import seaborn as sns\n",
        "import matplotlib.pyplot as plt\n",
        "%matplotlib inline\n",
        "sns.set(color_codes=True)"
      ],
      "execution_count": null,
      "outputs": []
    },
    {
      "cell_type": "code",
      "metadata": {
        "id": "w8KJYYpddF3k"
      },
      "source": [
        "data=pd.read_csv(\"/content/Iris.csv\")"
      ],
      "execution_count": null,
      "outputs": []
    },
    {
      "cell_type": "code",
      "metadata": {
        "id": "ddiN9BlMdIj_",
        "outputId": "cce78e37-ad06-4851-bca3-c1a8d45dad8e",
        "colab": {
          "base_uri": "https://localhost:8080/"
        }
      },
      "source": [
        "data.head"
      ],
      "execution_count": null,
      "outputs": [
        {
          "output_type": "execute_result",
          "data": {
            "text/plain": [
              "<bound method NDFrame.head of       Id  SepalLengthCm  ...  PetalWidthCm         Species\n",
              "0      1            5.1  ...           0.2     Iris-setosa\n",
              "1      2            4.9  ...           0.2     Iris-setosa\n",
              "2      3            4.7  ...           0.2     Iris-setosa\n",
              "3      4            4.6  ...           0.2     Iris-setosa\n",
              "4      5            5.0  ...           0.2     Iris-setosa\n",
              "..   ...            ...  ...           ...             ...\n",
              "145  146            6.7  ...           2.3  Iris-virginica\n",
              "146  147            6.3  ...           1.9  Iris-virginica\n",
              "147  148            6.5  ...           2.0  Iris-virginica\n",
              "148  149            6.2  ...           2.3  Iris-virginica\n",
              "149  150            5.9  ...           1.8  Iris-virginica\n",
              "\n",
              "[150 rows x 6 columns]>"
            ]
          },
          "metadata": {
            "tags": []
          },
          "execution_count": 3
        }
      ]
    },
    {
      "cell_type": "code",
      "metadata": {
        "id": "MRnPZNHodMsx",
        "outputId": "3ada4401-196a-4a7f-b620-d24933a20444",
        "colab": {
          "base_uri": "https://localhost:8080/",
          "height": 194
        }
      },
      "source": [
        "data.head(5)"
      ],
      "execution_count": null,
      "outputs": [
        {
          "output_type": "execute_result",
          "data": {
            "text/html": [
              "<div>\n",
              "<style scoped>\n",
              "    .dataframe tbody tr th:only-of-type {\n",
              "        vertical-align: middle;\n",
              "    }\n",
              "\n",
              "    .dataframe tbody tr th {\n",
              "        vertical-align: top;\n",
              "    }\n",
              "\n",
              "    .dataframe thead th {\n",
              "        text-align: right;\n",
              "    }\n",
              "</style>\n",
              "<table border=\"1\" class=\"dataframe\">\n",
              "  <thead>\n",
              "    <tr style=\"text-align: right;\">\n",
              "      <th></th>\n",
              "      <th>Id</th>\n",
              "      <th>SepalLengthCm</th>\n",
              "      <th>SepalWidthCm</th>\n",
              "      <th>PetalLengthCm</th>\n",
              "      <th>PetalWidthCm</th>\n",
              "      <th>Species</th>\n",
              "    </tr>\n",
              "  </thead>\n",
              "  <tbody>\n",
              "    <tr>\n",
              "      <th>0</th>\n",
              "      <td>1</td>\n",
              "      <td>5.1</td>\n",
              "      <td>3.5</td>\n",
              "      <td>1.4</td>\n",
              "      <td>0.2</td>\n",
              "      <td>Iris-setosa</td>\n",
              "    </tr>\n",
              "    <tr>\n",
              "      <th>1</th>\n",
              "      <td>2</td>\n",
              "      <td>4.9</td>\n",
              "      <td>3.0</td>\n",
              "      <td>1.4</td>\n",
              "      <td>0.2</td>\n",
              "      <td>Iris-setosa</td>\n",
              "    </tr>\n",
              "    <tr>\n",
              "      <th>2</th>\n",
              "      <td>3</td>\n",
              "      <td>4.7</td>\n",
              "      <td>3.2</td>\n",
              "      <td>1.3</td>\n",
              "      <td>0.2</td>\n",
              "      <td>Iris-setosa</td>\n",
              "    </tr>\n",
              "    <tr>\n",
              "      <th>3</th>\n",
              "      <td>4</td>\n",
              "      <td>4.6</td>\n",
              "      <td>3.1</td>\n",
              "      <td>1.5</td>\n",
              "      <td>0.2</td>\n",
              "      <td>Iris-setosa</td>\n",
              "    </tr>\n",
              "    <tr>\n",
              "      <th>4</th>\n",
              "      <td>5</td>\n",
              "      <td>5.0</td>\n",
              "      <td>3.6</td>\n",
              "      <td>1.4</td>\n",
              "      <td>0.2</td>\n",
              "      <td>Iris-setosa</td>\n",
              "    </tr>\n",
              "  </tbody>\n",
              "</table>\n",
              "</div>"
            ],
            "text/plain": [
              "   Id  SepalLengthCm  SepalWidthCm  PetalLengthCm  PetalWidthCm      Species\n",
              "0   1            5.1           3.5            1.4           0.2  Iris-setosa\n",
              "1   2            4.9           3.0            1.4           0.2  Iris-setosa\n",
              "2   3            4.7           3.2            1.3           0.2  Iris-setosa\n",
              "3   4            4.6           3.1            1.5           0.2  Iris-setosa\n",
              "4   5            5.0           3.6            1.4           0.2  Iris-setosa"
            ]
          },
          "metadata": {
            "tags": []
          },
          "execution_count": 4
        }
      ]
    },
    {
      "cell_type": "code",
      "metadata": {
        "id": "JFUuXARiprux",
        "outputId": "b37f78d1-347b-49a5-85ff-04cc457f8965",
        "colab": {
          "base_uri": "https://localhost:8080/",
          "height": 194
        }
      },
      "source": [
        "data.sample(5)"
      ],
      "execution_count": null,
      "outputs": [
        {
          "output_type": "execute_result",
          "data": {
            "text/html": [
              "<div>\n",
              "<style scoped>\n",
              "    .dataframe tbody tr th:only-of-type {\n",
              "        vertical-align: middle;\n",
              "    }\n",
              "\n",
              "    .dataframe tbody tr th {\n",
              "        vertical-align: top;\n",
              "    }\n",
              "\n",
              "    .dataframe thead th {\n",
              "        text-align: right;\n",
              "    }\n",
              "</style>\n",
              "<table border=\"1\" class=\"dataframe\">\n",
              "  <thead>\n",
              "    <tr style=\"text-align: right;\">\n",
              "      <th></th>\n",
              "      <th>Id</th>\n",
              "      <th>SepalLengthCm</th>\n",
              "      <th>SepalWidthCm</th>\n",
              "      <th>PetalLengthCm</th>\n",
              "      <th>PetalWidthCm</th>\n",
              "      <th>Species</th>\n",
              "    </tr>\n",
              "  </thead>\n",
              "  <tbody>\n",
              "    <tr>\n",
              "      <th>34</th>\n",
              "      <td>35</td>\n",
              "      <td>4.9</td>\n",
              "      <td>3.1</td>\n",
              "      <td>1.5</td>\n",
              "      <td>0.1</td>\n",
              "      <td>Iris-setosa</td>\n",
              "    </tr>\n",
              "    <tr>\n",
              "      <th>40</th>\n",
              "      <td>41</td>\n",
              "      <td>5.0</td>\n",
              "      <td>3.5</td>\n",
              "      <td>1.3</td>\n",
              "      <td>0.3</td>\n",
              "      <td>Iris-setosa</td>\n",
              "    </tr>\n",
              "    <tr>\n",
              "      <th>21</th>\n",
              "      <td>22</td>\n",
              "      <td>5.1</td>\n",
              "      <td>3.7</td>\n",
              "      <td>1.5</td>\n",
              "      <td>0.4</td>\n",
              "      <td>Iris-setosa</td>\n",
              "    </tr>\n",
              "    <tr>\n",
              "      <th>48</th>\n",
              "      <td>49</td>\n",
              "      <td>5.3</td>\n",
              "      <td>3.7</td>\n",
              "      <td>1.5</td>\n",
              "      <td>0.2</td>\n",
              "      <td>Iris-setosa</td>\n",
              "    </tr>\n",
              "    <tr>\n",
              "      <th>128</th>\n",
              "      <td>129</td>\n",
              "      <td>6.4</td>\n",
              "      <td>2.8</td>\n",
              "      <td>5.6</td>\n",
              "      <td>2.1</td>\n",
              "      <td>Iris-virginica</td>\n",
              "    </tr>\n",
              "  </tbody>\n",
              "</table>\n",
              "</div>"
            ],
            "text/plain": [
              "      Id  SepalLengthCm  ...  PetalWidthCm         Species\n",
              "34    35            4.9  ...           0.1     Iris-setosa\n",
              "40    41            5.0  ...           0.3     Iris-setosa\n",
              "21    22            5.1  ...           0.4     Iris-setosa\n",
              "48    49            5.3  ...           0.2     Iris-setosa\n",
              "128  129            6.4  ...           2.1  Iris-virginica\n",
              "\n",
              "[5 rows x 6 columns]"
            ]
          },
          "metadata": {
            "tags": []
          },
          "execution_count": 5
        }
      ]
    },
    {
      "cell_type": "code",
      "metadata": {
        "id": "N3uczVjrphdI",
        "outputId": "7f5dfc2d-c416-4296-8223-4352d2d5c3b6",
        "colab": {
          "base_uri": "https://localhost:8080/",
          "height": 194
        }
      },
      "source": [
        "data.tail(5)"
      ],
      "execution_count": null,
      "outputs": [
        {
          "output_type": "execute_result",
          "data": {
            "text/html": [
              "<div>\n",
              "<style scoped>\n",
              "    .dataframe tbody tr th:only-of-type {\n",
              "        vertical-align: middle;\n",
              "    }\n",
              "\n",
              "    .dataframe tbody tr th {\n",
              "        vertical-align: top;\n",
              "    }\n",
              "\n",
              "    .dataframe thead th {\n",
              "        text-align: right;\n",
              "    }\n",
              "</style>\n",
              "<table border=\"1\" class=\"dataframe\">\n",
              "  <thead>\n",
              "    <tr style=\"text-align: right;\">\n",
              "      <th></th>\n",
              "      <th>Id</th>\n",
              "      <th>SepalLengthCm</th>\n",
              "      <th>SepalWidthCm</th>\n",
              "      <th>PetalLengthCm</th>\n",
              "      <th>PetalWidthCm</th>\n",
              "      <th>Species</th>\n",
              "    </tr>\n",
              "  </thead>\n",
              "  <tbody>\n",
              "    <tr>\n",
              "      <th>145</th>\n",
              "      <td>146</td>\n",
              "      <td>6.7</td>\n",
              "      <td>3.0</td>\n",
              "      <td>5.2</td>\n",
              "      <td>2.3</td>\n",
              "      <td>Iris-virginica</td>\n",
              "    </tr>\n",
              "    <tr>\n",
              "      <th>146</th>\n",
              "      <td>147</td>\n",
              "      <td>6.3</td>\n",
              "      <td>2.5</td>\n",
              "      <td>5.0</td>\n",
              "      <td>1.9</td>\n",
              "      <td>Iris-virginica</td>\n",
              "    </tr>\n",
              "    <tr>\n",
              "      <th>147</th>\n",
              "      <td>148</td>\n",
              "      <td>6.5</td>\n",
              "      <td>3.0</td>\n",
              "      <td>5.2</td>\n",
              "      <td>2.0</td>\n",
              "      <td>Iris-virginica</td>\n",
              "    </tr>\n",
              "    <tr>\n",
              "      <th>148</th>\n",
              "      <td>149</td>\n",
              "      <td>6.2</td>\n",
              "      <td>3.4</td>\n",
              "      <td>5.4</td>\n",
              "      <td>2.3</td>\n",
              "      <td>Iris-virginica</td>\n",
              "    </tr>\n",
              "    <tr>\n",
              "      <th>149</th>\n",
              "      <td>150</td>\n",
              "      <td>5.9</td>\n",
              "      <td>3.0</td>\n",
              "      <td>5.1</td>\n",
              "      <td>1.8</td>\n",
              "      <td>Iris-virginica</td>\n",
              "    </tr>\n",
              "  </tbody>\n",
              "</table>\n",
              "</div>"
            ],
            "text/plain": [
              "      Id  SepalLengthCm  ...  PetalWidthCm         Species\n",
              "145  146            6.7  ...           2.3  Iris-virginica\n",
              "146  147            6.3  ...           1.9  Iris-virginica\n",
              "147  148            6.5  ...           2.0  Iris-virginica\n",
              "148  149            6.2  ...           2.3  Iris-virginica\n",
              "149  150            5.9  ...           1.8  Iris-virginica\n",
              "\n",
              "[5 rows x 6 columns]"
            ]
          },
          "metadata": {
            "tags": []
          },
          "execution_count": 6
        }
      ]
    },
    {
      "cell_type": "code",
      "metadata": {
        "id": "otPYPcJSplC6",
        "outputId": "33d0b3d5-57f6-424f-8fe9-7c2cae5746bc",
        "colab": {
          "base_uri": "https://localhost:8080/"
        }
      },
      "source": [
        "data.isna().sum()"
      ],
      "execution_count": null,
      "outputs": [
        {
          "output_type": "execute_result",
          "data": {
            "text/plain": [
              "Id               0\n",
              "SepalLengthCm    0\n",
              "SepalWidthCm     0\n",
              "PetalLengthCm    0\n",
              "PetalWidthCm     0\n",
              "Species          0\n",
              "dtype: int64"
            ]
          },
          "metadata": {
            "tags": []
          },
          "execution_count": 7
        }
      ]
    },
    {
      "cell_type": "code",
      "metadata": {
        "id": "A1gkV_ltpbYp",
        "outputId": "910ea502-340f-40be-cea6-599e3652fe72",
        "colab": {
          "base_uri": "https://localhost:8080/",
          "height": 282
        }
      },
      "source": [
        "data.describe()"
      ],
      "execution_count": null,
      "outputs": [
        {
          "output_type": "execute_result",
          "data": {
            "text/html": [
              "<div>\n",
              "<style scoped>\n",
              "    .dataframe tbody tr th:only-of-type {\n",
              "        vertical-align: middle;\n",
              "    }\n",
              "\n",
              "    .dataframe tbody tr th {\n",
              "        vertical-align: top;\n",
              "    }\n",
              "\n",
              "    .dataframe thead th {\n",
              "        text-align: right;\n",
              "    }\n",
              "</style>\n",
              "<table border=\"1\" class=\"dataframe\">\n",
              "  <thead>\n",
              "    <tr style=\"text-align: right;\">\n",
              "      <th></th>\n",
              "      <th>Id</th>\n",
              "      <th>SepalLengthCm</th>\n",
              "      <th>SepalWidthCm</th>\n",
              "      <th>PetalLengthCm</th>\n",
              "      <th>PetalWidthCm</th>\n",
              "    </tr>\n",
              "  </thead>\n",
              "  <tbody>\n",
              "    <tr>\n",
              "      <th>count</th>\n",
              "      <td>150.000000</td>\n",
              "      <td>150.000000</td>\n",
              "      <td>150.000000</td>\n",
              "      <td>150.000000</td>\n",
              "      <td>150.000000</td>\n",
              "    </tr>\n",
              "    <tr>\n",
              "      <th>mean</th>\n",
              "      <td>75.500000</td>\n",
              "      <td>5.843333</td>\n",
              "      <td>3.054000</td>\n",
              "      <td>3.758667</td>\n",
              "      <td>1.198667</td>\n",
              "    </tr>\n",
              "    <tr>\n",
              "      <th>std</th>\n",
              "      <td>43.445368</td>\n",
              "      <td>0.828066</td>\n",
              "      <td>0.433594</td>\n",
              "      <td>1.764420</td>\n",
              "      <td>0.763161</td>\n",
              "    </tr>\n",
              "    <tr>\n",
              "      <th>min</th>\n",
              "      <td>1.000000</td>\n",
              "      <td>4.300000</td>\n",
              "      <td>2.000000</td>\n",
              "      <td>1.000000</td>\n",
              "      <td>0.100000</td>\n",
              "    </tr>\n",
              "    <tr>\n",
              "      <th>25%</th>\n",
              "      <td>38.250000</td>\n",
              "      <td>5.100000</td>\n",
              "      <td>2.800000</td>\n",
              "      <td>1.600000</td>\n",
              "      <td>0.300000</td>\n",
              "    </tr>\n",
              "    <tr>\n",
              "      <th>50%</th>\n",
              "      <td>75.500000</td>\n",
              "      <td>5.800000</td>\n",
              "      <td>3.000000</td>\n",
              "      <td>4.350000</td>\n",
              "      <td>1.300000</td>\n",
              "    </tr>\n",
              "    <tr>\n",
              "      <th>75%</th>\n",
              "      <td>112.750000</td>\n",
              "      <td>6.400000</td>\n",
              "      <td>3.300000</td>\n",
              "      <td>5.100000</td>\n",
              "      <td>1.800000</td>\n",
              "    </tr>\n",
              "    <tr>\n",
              "      <th>max</th>\n",
              "      <td>150.000000</td>\n",
              "      <td>7.900000</td>\n",
              "      <td>4.400000</td>\n",
              "      <td>6.900000</td>\n",
              "      <td>2.500000</td>\n",
              "    </tr>\n",
              "  </tbody>\n",
              "</table>\n",
              "</div>"
            ],
            "text/plain": [
              "               Id  SepalLengthCm  SepalWidthCm  PetalLengthCm  PetalWidthCm\n",
              "count  150.000000     150.000000    150.000000     150.000000    150.000000\n",
              "mean    75.500000       5.843333      3.054000       3.758667      1.198667\n",
              "std     43.445368       0.828066      0.433594       1.764420      0.763161\n",
              "min      1.000000       4.300000      2.000000       1.000000      0.100000\n",
              "25%     38.250000       5.100000      2.800000       1.600000      0.300000\n",
              "50%     75.500000       5.800000      3.000000       4.350000      1.300000\n",
              "75%    112.750000       6.400000      3.300000       5.100000      1.800000\n",
              "max    150.000000       7.900000      4.400000       6.900000      2.500000"
            ]
          },
          "metadata": {
            "tags": []
          },
          "execution_count": 8
        }
      ]
    },
    {
      "cell_type": "code",
      "metadata": {
        "id": "NU43KFJhpf-4",
        "outputId": "62214805-7862-4be5-a5ea-5939e9b44f79",
        "colab": {
          "base_uri": "https://localhost:8080/"
        }
      },
      "source": [
        "print (\"Dataset Lenght:: \", len(data))\n",
        "print (\"Dataset Shape:: \", data.shape)"
      ],
      "execution_count": null,
      "outputs": [
        {
          "output_type": "stream",
          "text": [
            "Dataset Lenght::  150\n",
            "Dataset Shape::  (150, 6)\n"
          ],
          "name": "stdout"
        }
      ]
    },
    {
      "cell_type": "markdown",
      "metadata": {
        "id": "lMdb1aA7dTA4"
      },
      "source": [
        "*PREPROCESSING DATA*"
      ]
    },
    {
      "cell_type": "code",
      "metadata": {
        "id": "ChZHkt7KdPTB"
      },
      "source": [
        "from sklearn import preprocessing\n",
        "label_encoder = preprocessing.LabelEncoder()\n",
        "data[\"Species\"] = label_encoder.fit_transform(data['Species'])"
      ],
      "execution_count": null,
      "outputs": []
    },
    {
      "cell_type": "code",
      "metadata": {
        "id": "PKkz2EEldV7n",
        "outputId": "183fcf64-8f26-4f47-baac-fd36333f490d",
        "colab": {
          "base_uri": "https://localhost:8080/",
          "height": 194
        }
      },
      "source": [
        "data.head(5)"
      ],
      "execution_count": null,
      "outputs": [
        {
          "output_type": "execute_result",
          "data": {
            "text/html": [
              "<div>\n",
              "<style scoped>\n",
              "    .dataframe tbody tr th:only-of-type {\n",
              "        vertical-align: middle;\n",
              "    }\n",
              "\n",
              "    .dataframe tbody tr th {\n",
              "        vertical-align: top;\n",
              "    }\n",
              "\n",
              "    .dataframe thead th {\n",
              "        text-align: right;\n",
              "    }\n",
              "</style>\n",
              "<table border=\"1\" class=\"dataframe\">\n",
              "  <thead>\n",
              "    <tr style=\"text-align: right;\">\n",
              "      <th></th>\n",
              "      <th>Id</th>\n",
              "      <th>SepalLengthCm</th>\n",
              "      <th>SepalWidthCm</th>\n",
              "      <th>PetalLengthCm</th>\n",
              "      <th>PetalWidthCm</th>\n",
              "      <th>Species</th>\n",
              "    </tr>\n",
              "  </thead>\n",
              "  <tbody>\n",
              "    <tr>\n",
              "      <th>0</th>\n",
              "      <td>1</td>\n",
              "      <td>5.1</td>\n",
              "      <td>3.5</td>\n",
              "      <td>1.4</td>\n",
              "      <td>0.2</td>\n",
              "      <td>0</td>\n",
              "    </tr>\n",
              "    <tr>\n",
              "      <th>1</th>\n",
              "      <td>2</td>\n",
              "      <td>4.9</td>\n",
              "      <td>3.0</td>\n",
              "      <td>1.4</td>\n",
              "      <td>0.2</td>\n",
              "      <td>0</td>\n",
              "    </tr>\n",
              "    <tr>\n",
              "      <th>2</th>\n",
              "      <td>3</td>\n",
              "      <td>4.7</td>\n",
              "      <td>3.2</td>\n",
              "      <td>1.3</td>\n",
              "      <td>0.2</td>\n",
              "      <td>0</td>\n",
              "    </tr>\n",
              "    <tr>\n",
              "      <th>3</th>\n",
              "      <td>4</td>\n",
              "      <td>4.6</td>\n",
              "      <td>3.1</td>\n",
              "      <td>1.5</td>\n",
              "      <td>0.2</td>\n",
              "      <td>0</td>\n",
              "    </tr>\n",
              "    <tr>\n",
              "      <th>4</th>\n",
              "      <td>5</td>\n",
              "      <td>5.0</td>\n",
              "      <td>3.6</td>\n",
              "      <td>1.4</td>\n",
              "      <td>0.2</td>\n",
              "      <td>0</td>\n",
              "    </tr>\n",
              "  </tbody>\n",
              "</table>\n",
              "</div>"
            ],
            "text/plain": [
              "   Id  SepalLengthCm  SepalWidthCm  PetalLengthCm  PetalWidthCm  Species\n",
              "0   1            5.1           3.5            1.4           0.2        0\n",
              "1   2            4.9           3.0            1.4           0.2        0\n",
              "2   3            4.7           3.2            1.3           0.2        0\n",
              "3   4            4.6           3.1            1.5           0.2        0\n",
              "4   5            5.0           3.6            1.4           0.2        0"
            ]
          },
          "metadata": {
            "tags": []
          },
          "execution_count": 11
        }
      ]
    },
    {
      "cell_type": "code",
      "metadata": {
        "id": "J9UxsLd9dYxN"
      },
      "source": [
        "from sklearn.model_selection import train_test_split\n",
        "feature_col_names=['SepalLengthCm','SepalWidthCm','PetalLengthCm','PetalWidthCm']\n",
        "predicted_class_name=['Species']\n",
        "x=data[feature_col_names].values\n",
        "y=data[predicted_class_name].values\n",
        "split_test_size=0.30\n",
        "x_train,x_test,y_train,y_test=train_test_split(x,y,test_size=split_test_size,random_state=1)"
      ],
      "execution_count": null,
      "outputs": []
    },
    {
      "cell_type": "markdown",
      "metadata": {
        "id": "Vv0P2rqVdhGx"
      },
      "source": [
        "*FIND OPTIMUM NO.OF CLUSTERS*"
      ]
    },
    {
      "cell_type": "code",
      "metadata": {
        "id": "uWjRg6CBdc8x",
        "outputId": "4d134f1e-a53b-4372-9064-761ea752f01a",
        "colab": {
          "base_uri": "https://localhost:8080/",
          "height": 432
        }
      },
      "source": [
        "from yellowbrick.cluster import KElbowVisualizer\n",
        "from sklearn.cluster import KMeans\n",
        "model = KMeans()\n",
        "visualizer = KElbowVisualizer(model, k=(1,11), timings=False)\n",
        "visualizer.fit(x)\n",
        "visualizer.poof()"
      ],
      "execution_count": null,
      "outputs": [
        {
          "output_type": "stream",
          "text": [
            "/usr/local/lib/python3.6/dist-packages/sklearn/utils/deprecation.py:144: FutureWarning: The sklearn.metrics.classification module is  deprecated in version 0.22 and will be removed in version 0.24. The corresponding classes / functions should instead be imported from sklearn.metrics. Anything that cannot be imported from sklearn.metrics is now part of the private API.\n",
            "  warnings.warn(message, FutureWarning)\n"
          ],
          "name": "stderr"
        },
        {
          "output_type": "display_data",
          "data": {
            "image/png": "[encoded data removed]",
            "text/plain": [
              "<Figure size 576x396 with 1 Axes>"
            ]
          },
          "metadata": {
            "tags": []
          }
        }
      ]
    },
    {
      "cell_type": "code",
      "metadata": {
        "id": "YHFYA4FCdmIA",
        "outputId": "9263edae-b5a9-4c2f-dab7-e3700508fc58",
        "colab": {
          "base_uri": "https://localhost:8080/",
          "height": 376
        }
      },
      "source": [
        "\n",
        "x = data.iloc[:, [0, 1, 2, 3]].values\n",
        "\n",
        "from sklearn.cluster import KMeans\n",
        "wcss = []\n",
        "\n",
        "for i in range(1, 11):\n",
        "    kmeans = KMeans(n_clusters = i, init = 'k-means++', \n",
        "                    max_iter = 300, n_init = 10, random_state = 0)\n",
        "    kmeans.fit(x)\n",
        "    wcss.append(kmeans.inertia_)\n",
        "plt.plot(range(1, 11), wcss)\n",
        "plt.title('The elbow method')\n",
        "plt.xlabel('Number of clusters')\n",
        "plt.ylabel('WCSS') \n",
        "plt.show()"
      ],
      "execution_count": null,
      "outputs": [
        {
          "output_type": "display_data",
          "data": {
            "image/png": "[encoded data removed]",
            "text/plain": [
              "<Figure size 576x396 with 1 Axes>"
            ]
          },
          "metadata": {
            "tags": []
          }
        }
      ]
    },
    {
      "cell_type": "markdown",
      "metadata": {
        "id": "n-edC2whdwrf"
      },
      "source": [
        "*VISUALIZE DATA*"
      ]
    },
    {
      "cell_type": "code",
      "metadata": {
        "id": "ZivOhJ3kdo9h",
        "outputId": "cf83db40-4f39-480c-c30b-3523a3eeaedb",
        "colab": {
          "base_uri": "https://localhost:8080/",
          "height": 386
        }
      },
      "source": [
        "plt.scatter(x[:,0], x[:,1], c=y, cmap='gist_rainbow')\n",
        "plt.xlabel('Spea1 Length', fontsize=18)\n",
        "plt.ylabel('Sepal Width', fontsize=18)"
      ],
      "execution_count": null,
      "outputs": [
        {
          "output_type": "execute_result",
          "data": {
            "text/plain": [
              "Text(0, 0.5, 'Sepal Width')"
            ]
          },
          "metadata": {
            "tags": []
          },
          "execution_count": 15
        },
        {
          "output_type": "display_data",
          "data": {
            "image/png": "[encoded data removed]",
            "text/plain": [
              "<Figure size 576x396 with 1 Axes>"
            ]
          },
          "metadata": {
            "tags": []
          }
        }
      ]
    },
    {
      "cell_type": "code",
      "metadata": {
        "id": "BE3qJZBXdzSc",
        "outputId": "2fc20cbf-34cf-4c0d-bb1d-ef2706dd9685",
        "colab": {
          "base_uri": "https://localhost:8080/",
          "height": 386
        }
      },
      "source": [
        "plt.scatter(x[:,2], x[:,3], c=y, cmap='gist_rainbow')\n",
        "plt.xlabel('Peta1 Length', fontsize=18)\n",
        "plt.ylabel('Petal Width', fontsize=18)"
      ],
      "execution_count": null,
      "outputs": [
        {
          "output_type": "execute_result",
          "data": {
            "text/plain": [
              "Text(0, 0.5, 'Petal Width')"
            ]
          },
          "metadata": {
            "tags": []
          },
          "execution_count": 16
        },
        {
          "output_type": "display_data",
          "data": {
            "image/png": "[encoded data removed]",
            "text/plain": [
              "<Figure size 576x396 with 1 Axes>"
            ]
          },
          "metadata": {
            "tags": []
          }
        }
      ]
    },
    {
      "cell_type": "code",
      "metadata": {
        "id": "mXkDGHL0d2nL"
      },
      "source": [
        "df=data"
      ],
      "execution_count": null,
      "outputs": []
    },
    {
      "cell_type": "markdown",
      "metadata": {
        "id": "VjB8YmVid81m"
      },
      "source": [
        "*CREATE MODEL*"
      ]
    },
    {
      "cell_type": "code",
      "metadata": {
        "id": "n6QCYiewd44g",
        "outputId": "94e11287-7a65-44a9-d228-19785fe6975e",
        "colab": {
          "base_uri": "https://localhost:8080/"
        }
      },
      "source": [
        "km = KMeans(n_clusters = 3, n_jobs = 4, random_state=21)\n",
        "km.fit(x)"
      ],
      "execution_count": null,
      "outputs": [
        {
          "output_type": "execute_result",
          "data": {
            "text/plain": [
              "KMeans(algorithm='auto', copy_x=True, init='k-means++', max_iter=300,\n",
              "       n_clusters=3, n_init=10, n_jobs=4, precompute_distances='auto',\n",
              "       random_state=21, tol=0.0001, verbose=0)"
            ]
          },
          "metadata": {
            "tags": []
          },
          "execution_count": 18
        }
      ]
    },
    {
      "cell_type": "markdown",
      "metadata": {
        "id": "9Ob-CrI8eC7n"
      },
      "source": [
        "# ***FOR FIRST 2 FEATURES***"
      ]
    },
    {
      "cell_type": "markdown",
      "metadata": {
        "id": "MCkfC3w2eElc"
      },
      "source": [
        "*PLOT CENTROID*"
      ]
    },
    {
      "cell_type": "code",
      "metadata": {
        "id": "QWf8SIUXd_h0",
        "outputId": "c461ae27-df1a-4b49-daa7-f30c4ecaa3d1",
        "colab": {
          "base_uri": "https://localhost:8080/"
        }
      },
      "source": [
        "centers = km.cluster_centers_\n",
        "print(centers)"
      ],
      "execution_count": null,
      "outputs": [
        {
          "output_type": "stream",
          "text": [
            "[[ 25.           5.00612245   3.42040816   1.46530612]\n",
            " [125.           6.57058824   2.97058824   5.52352941]\n",
            " [ 74.5          5.922        2.78         4.206     ]]\n"
          ],
          "name": "stdout"
        }
      ]
    },
    {
      "cell_type": "code",
      "metadata": {
        "id": "ajs9wG3-eNu8"
      },
      "source": [
        "centroids = {}\n",
        "for i in range(3):\n",
        "    result_list = []\n",
        "    result_list.append(data.loc[data['Species'] == i]['SepalLengthCm'].mean())\n",
        "    result_list.append(data.loc[data['Species'] == i]['SepalWidthCm'].mean())\n",
        "    \n",
        "    centroids[i] = result_list"
      ],
      "execution_count": null,
      "outputs": []
    },
    {
      "cell_type": "code",
      "metadata": {
        "id": "2aGznuaSeRRe",
        "outputId": "c5398e67-f699-4631-b3fc-12119a48a690",
        "colab": {
          "base_uri": "https://localhost:8080/"
        }
      },
      "source": [
        "centroids"
      ],
      "execution_count": null,
      "outputs": [
        {
          "output_type": "execute_result",
          "data": {
            "text/plain": [
              "{0: [5.005999999999999, 3.4180000000000006],\n",
              " 1: [5.936, 2.7700000000000005],\n",
              " 2: [6.587999999999998, 2.9739999999999998]}"
            ]
          },
          "metadata": {
            "tags": []
          },
          "execution_count": 21
        }
      ]
    },
    {
      "cell_type": "code",
      "metadata": {
        "id": "OCIZVIhpeTfX",
        "outputId": "e8473520-49ca-4c43-98fd-f134d80224f5",
        "colab": {
          "base_uri": "https://localhost:8080/",
          "height": 347
        }
      },
      "source": [
        "colmap = {0: 'r', 1: 'g', 2: 'b'}\n",
        "for i in range(3):\n",
        "    plt.scatter(centroids[i][0],centroids[i][1], color=colmap[i])\n",
        "plt.show()"
      ],
      "execution_count": null,
      "outputs": [
        {
          "output_type": "display_data",
          "data": {
            "image/png": "[encoded data removed]",
            "text/plain": [
              "<Figure size 576x396 with 1 Axes>"
            ]
          },
          "metadata": {
            "tags": []
          }
        }
      ]
    },
    {
      "cell_type": "markdown",
      "metadata": {
        "id": "UdXjb7uJeYLb"
      },
      "source": [
        "*UPDATE DATAFRAME BY CALCULATING DISTANCE*"
      ]
    },
    {
      "cell_type": "code",
      "metadata": {
        "id": "gxGkfZXVeVof"
      },
      "source": [
        "def assignment(data, centroids):\n",
        "    for i in range(3):\n",
        "        # sqrt((x1 - x2)^2 + (y1 - y2)^2)\n",
        "        data['distance_from_{}'.format(i)] = (\n",
        "            np.sqrt(\n",
        "                (data['SepalLengthCm'] - centroids[i][0]) ** 2\n",
        "                + (data['SepalWidthCm'] - centroids[i][1]) ** 2\n",
        "            )\n",
        "        )\n",
        "    centroid_distance_cols = ['distance_from_{}'.format(i) for i in centroids.keys()]\n",
        "    data['closest'] = data.loc[:, centroid_distance_cols].idxmin(axis=1)\n",
        "    data['closest'] = data['closest'].map(lambda x: int(x.lstrip('distance_from_')))\n",
        "    data['color'] = data['closest'].map(lambda x: colmap[x])\n",
        "    return data"
      ],
      "execution_count": null,
      "outputs": []
    },
    {
      "cell_type": "code",
      "metadata": {
        "id": "jM37ZM09edjh"
      },
      "source": [
        "data = assignment(data, centroids)"
      ],
      "execution_count": null,
      "outputs": []
    },
    {
      "cell_type": "code",
      "metadata": {
        "id": "DgzQ8sxKeflU",
        "outputId": "5e955c55-9d53-4f0f-a418-ce73a20eba47",
        "colab": {
          "base_uri": "https://localhost:8080/",
          "height": 399
        }
      },
      "source": [
        "data"
      ],
      "execution_count": null,
      "outputs": [
        {
          "output_type": "execute_result",
          "data": {
            "text/html": [
              "<div>\n",
              "<style scoped>\n",
              "    .dataframe tbody tr th:only-of-type {\n",
              "        vertical-align: middle;\n",
              "    }\n",
              "\n",
              "    .dataframe tbody tr th {\n",
              "        vertical-align: top;\n",
              "    }\n",
              "\n",
              "    .dataframe thead th {\n",
              "        text-align: right;\n",
              "    }\n",
              "</style>\n",
              "<table border=\"1\" class=\"dataframe\">\n",
              "  <thead>\n",
              "    <tr style=\"text-align: right;\">\n",
              "      <th></th>\n",
              "      <th>Id</th>\n",
              "      <th>SepalLengthCm</th>\n",
              "      <th>SepalWidthCm</th>\n",
              "      <th>PetalLengthCm</th>\n",
              "      <th>PetalWidthCm</th>\n",
              "      <th>Species</th>\n",
              "      <th>distance_from_0</th>\n",
              "      <th>distance_from_1</th>\n",
              "      <th>distance_from_2</th>\n",
              "      <th>closest</th>\n",
              "      <th>color</th>\n",
              "    </tr>\n",
              "  </thead>\n",
              "  <tbody>\n",
              "    <tr>\n",
              "      <th>0</th>\n",
              "      <td>1</td>\n",
              "      <td>5.1</td>\n",
              "      <td>3.5</td>\n",
              "      <td>1.4</td>\n",
              "      <td>0.2</td>\n",
              "      <td>0</td>\n",
              "      <td>0.124740</td>\n",
              "      <td>1.109863</td>\n",
              "      <td>1.578233</td>\n",
              "      <td>0</td>\n",
              "      <td>r</td>\n",
              "    </tr>\n",
              "    <tr>\n",
              "      <th>1</th>\n",
              "      <td>2</td>\n",
              "      <td>4.9</td>\n",
              "      <td>3.0</td>\n",
              "      <td>1.4</td>\n",
              "      <td>0.2</td>\n",
              "      <td>0</td>\n",
              "      <td>0.431231</td>\n",
              "      <td>1.061224</td>\n",
              "      <td>1.688200</td>\n",
              "      <td>0</td>\n",
              "      <td>r</td>\n",
              "    </tr>\n",
              "    <tr>\n",
              "      <th>2</th>\n",
              "      <td>3</td>\n",
              "      <td>4.7</td>\n",
              "      <td>3.2</td>\n",
              "      <td>1.3</td>\n",
              "      <td>0.2</td>\n",
              "      <td>0</td>\n",
              "      <td>0.375713</td>\n",
              "      <td>1.308662</td>\n",
              "      <td>1.901478</td>\n",
              "      <td>0</td>\n",
              "      <td>r</td>\n",
              "    </tr>\n",
              "    <tr>\n",
              "      <th>3</th>\n",
              "      <td>4</td>\n",
              "      <td>4.6</td>\n",
              "      <td>3.1</td>\n",
              "      <td>1.5</td>\n",
              "      <td>0.2</td>\n",
              "      <td>0</td>\n",
              "      <td>0.515713</td>\n",
              "      <td>1.376153</td>\n",
              "      <td>1.991989</td>\n",
              "      <td>0</td>\n",
              "      <td>r</td>\n",
              "    </tr>\n",
              "    <tr>\n",
              "      <th>4</th>\n",
              "      <td>5</td>\n",
              "      <td>5.0</td>\n",
              "      <td>3.6</td>\n",
              "      <td>1.4</td>\n",
              "      <td>0.2</td>\n",
              "      <td>0</td>\n",
              "      <td>0.182099</td>\n",
              "      <td>1.250998</td>\n",
              "      <td>1.706933</td>\n",
              "      <td>0</td>\n",
              "      <td>r</td>\n",
              "    </tr>\n",
              "    <tr>\n",
              "      <th>...</th>\n",
              "      <td>...</td>\n",
              "      <td>...</td>\n",
              "      <td>...</td>\n",
              "      <td>...</td>\n",
              "      <td>...</td>\n",
              "      <td>...</td>\n",
              "      <td>...</td>\n",
              "      <td>...</td>\n",
              "      <td>...</td>\n",
              "      <td>...</td>\n",
              "      <td>...</td>\n",
              "    </tr>\n",
              "    <tr>\n",
              "      <th>145</th>\n",
              "      <td>146</td>\n",
              "      <td>6.7</td>\n",
              "      <td>3.0</td>\n",
              "      <td>5.2</td>\n",
              "      <td>2.3</td>\n",
              "      <td>2</td>\n",
              "      <td>1.744809</td>\n",
              "      <td>0.797870</td>\n",
              "      <td>0.114978</td>\n",
              "      <td>2</td>\n",
              "      <td>b</td>\n",
              "    </tr>\n",
              "    <tr>\n",
              "      <th>146</th>\n",
              "      <td>147</td>\n",
              "      <td>6.3</td>\n",
              "      <td>2.5</td>\n",
              "      <td>5.0</td>\n",
              "      <td>1.9</td>\n",
              "      <td>2</td>\n",
              "      <td>1.586556</td>\n",
              "      <td>0.453206</td>\n",
              "      <td>0.554635</td>\n",
              "      <td>1</td>\n",
              "      <td>g</td>\n",
              "    </tr>\n",
              "    <tr>\n",
              "      <th>147</th>\n",
              "      <td>148</td>\n",
              "      <td>6.5</td>\n",
              "      <td>3.0</td>\n",
              "      <td>5.2</td>\n",
              "      <td>2.0</td>\n",
              "      <td>2</td>\n",
              "      <td>1.551374</td>\n",
              "      <td>0.609094</td>\n",
              "      <td>0.091761</td>\n",
              "      <td>2</td>\n",
              "      <td>b</td>\n",
              "    </tr>\n",
              "    <tr>\n",
              "      <th>148</th>\n",
              "      <td>149</td>\n",
              "      <td>6.2</td>\n",
              "      <td>3.4</td>\n",
              "      <td>5.4</td>\n",
              "      <td>2.3</td>\n",
              "      <td>2</td>\n",
              "      <td>1.194136</td>\n",
              "      <td>0.683078</td>\n",
              "      <td>0.576212</td>\n",
              "      <td>2</td>\n",
              "      <td>b</td>\n",
              "    </tr>\n",
              "    <tr>\n",
              "      <th>149</th>\n",
              "      <td>150</td>\n",
              "      <td>5.9</td>\n",
              "      <td>3.0</td>\n",
              "      <td>5.1</td>\n",
              "      <td>1.8</td>\n",
              "      <td>2</td>\n",
              "      <td>0.986894</td>\n",
              "      <td>0.232800</td>\n",
              "      <td>0.688491</td>\n",
              "      <td>1</td>\n",
              "      <td>g</td>\n",
              "    </tr>\n",
              "  </tbody>\n",
              "</table>\n",
              "<p>150 rows × 11 columns</p>\n",
              "</div>"
            ],
            "text/plain": [
              "      Id  SepalLengthCm  SepalWidthCm  ...  distance_from_2  closest  color\n",
              "0      1            5.1           3.5  ...         1.578233        0      r\n",
              "1      2            4.9           3.0  ...         1.688200        0      r\n",
              "2      3            4.7           3.2  ...         1.901478        0      r\n",
              "3      4            4.6           3.1  ...         1.991989        0      r\n",
              "4      5            5.0           3.6  ...         1.706933        0      r\n",
              "..   ...            ...           ...  ...              ...      ...    ...\n",
              "145  146            6.7           3.0  ...         0.114978        2      b\n",
              "146  147            6.3           2.5  ...         0.554635        1      g\n",
              "147  148            6.5           3.0  ...         0.091761        2      b\n",
              "148  149            6.2           3.4  ...         0.576212        2      b\n",
              "149  150            5.9           3.0  ...         0.688491        1      g\n",
              "\n",
              "[150 rows x 11 columns]"
            ]
          },
          "metadata": {
            "tags": []
          },
          "execution_count": 25
        }
      ]
    },
    {
      "cell_type": "code",
      "metadata": {
        "id": "hoTvMvT2ehci",
        "outputId": "70302e41-5c67-4010-f6a9-cccd3567acfc",
        "colab": {
          "base_uri": "https://localhost:8080/"
        }
      },
      "source": [
        "data['color']"
      ],
      "execution_count": null,
      "outputs": [
        {
          "output_type": "execute_result",
          "data": {
            "text/plain": [
              "0      r\n",
              "1      r\n",
              "2      r\n",
              "3      r\n",
              "4      r\n",
              "      ..\n",
              "145    b\n",
              "146    g\n",
              "147    b\n",
              "148    b\n",
              "149    g\n",
              "Name: color, Length: 150, dtype: object"
            ]
          },
          "metadata": {
            "tags": []
          },
          "execution_count": 26
        }
      ]
    },
    {
      "cell_type": "markdown",
      "metadata": {
        "id": "MQCQo7VienAR"
      },
      "source": [
        "*VISUALIZE CLUSTERS*"
      ]
    },
    {
      "cell_type": "code",
      "metadata": {
        "id": "p1XJUR_Oejje",
        "outputId": "e4d6e43b-9604-429a-b2c1-851b32b1c679",
        "colab": {
          "base_uri": "https://localhost:8080/",
          "height": 322
        }
      },
      "source": [
        "fig = plt.figure(figsize=(5, 5))\n",
        "plt.scatter(data['SepalLengthCm'], data['SepalWidthCm'], color=data['color'],cmap='gist_rainbow', alpha=0.3)\n",
        "for i in centroids.keys():\n",
        "    plt.scatter(*centroids[i], color=colmap[i], edgecolor='k')\n",
        "\n",
        "plt.show()"
      ],
      "execution_count": null,
      "outputs": [
        {
          "output_type": "display_data",
          "data": {
            "image/png": "[encoded data removed]",
            "text/plain": [
              "<Figure size 360x360 with 1 Axes>"
            ]
          },
          "metadata": {
            "tags": []
          }
        }
      ]
    },
    {
      "cell_type": "markdown",
      "metadata": {
        "id": "GJsyCZFAevYf"
      },
      "source": [
        "*VISUALIZE CLUSTERS WITH UPDATED CENTROIDS*"
      ]
    },
    {
      "cell_type": "code",
      "metadata": {
        "id": "Ym2na56herjm"
      },
      "source": [
        "def update(k):\n",
        "    for i in range(3):\n",
        "        centroids[i][0] = np.mean(data[data['closest'] == i]['SepalLengthCm'])\n",
        "        centroids[i][1] = np.mean(data[data['closest'] == i]['SepalWidthCm'])\n",
        "    return k"
      ],
      "execution_count": null,
      "outputs": []
    },
    {
      "cell_type": "code",
      "metadata": {
        "id": "fXwBqgCpe8pQ",
        "outputId": "ffec487c-8c22-4e79-8ad1-fa296bc8ce30",
        "colab": {
          "base_uri": "https://localhost:8080/"
        }
      },
      "source": [
        "centroids = update(centroids)\n",
        "centroids"
      ],
      "execution_count": null,
      "outputs": [
        {
          "output_type": "execute_result",
          "data": {
            "text/plain": [
              "{0: [5.00943396226415, 3.373584905660378],\n",
              " 1: [5.806122448979591, 2.693877551020408],\n",
              " 2: [6.802083333333331, 3.0687499999999996]}"
            ]
          },
          "metadata": {
            "tags": []
          },
          "execution_count": 29
        }
      ]
    },
    {
      "cell_type": "code",
      "metadata": {
        "id": "LI8WeiOZe-61",
        "outputId": "bb7c3223-0d64-4a9f-ab41-db1d5c64531b",
        "colab": {
          "base_uri": "https://localhost:8080/",
          "height": 322
        }
      },
      "source": [
        "fig = plt.figure(figsize=(5, 5))\n",
        "plt.scatter(data['SepalLengthCm'], data['SepalWidthCm'], color=data['color'], alpha=0.3)\n",
        "for i in centroids.keys():\n",
        "    plt.scatter(*centroids[i], color=colmap[i], edgecolor='k')\n",
        "\n",
        "plt.show()"
      ],
      "execution_count": null,
      "outputs": [
        {
          "output_type": "display_data",
          "data": {
            "image/png": "[encoded data removed]",
            "text/plain": [
              "<Figure size 360x360 with 1 Axes>"
            ]
          },
          "metadata": {
            "tags": []
          }
        }
      ]
    },
    {
      "cell_type": "code",
      "metadata": {
        "id": "g8uKetMQfR3n"
      },
      "source": [
        "data = assignment(data, centroids)"
      ],
      "execution_count": null,
      "outputs": []
    },
    {
      "cell_type": "code",
      "metadata": {
        "id": "32zpP9nifSew",
        "outputId": "dc32e5e1-fb45-4245-af46-5c31d3c9a761",
        "colab": {
          "base_uri": "https://localhost:8080/",
          "height": 322
        }
      },
      "source": [
        "fig = plt.figure(figsize=(5, 5))\n",
        "plt.scatter(data['SepalLengthCm'], data['SepalWidthCm'], color=data['color'], alpha=0.3)\n",
        "for i in centroids.keys():\n",
        "    plt.scatter(centroids[i][0],centroids[i][1], color=colmap[i], edgecolor='k')\n",
        "plt.show()"
      ],
      "execution_count": null,
      "outputs": [
        {
          "output_type": "display_data",
          "data": {
            "image/png": "[encoded data removed]",
            "text/plain": [
              "<Figure size 360x360 with 1 Axes>"
            ]
          },
          "metadata": {
            "tags": []
          }
        }
      ]
    },
    {
      "cell_type": "markdown",
      "metadata": {
        "id": "fay0AGA3fZPN"
      },
      "source": [
        "*PLOT FINAL CLUSTERS AS NO FURTHER CHANGE*"
      ]
    },
    {
      "cell_type": "code",
      "metadata": {
        "id": "8ENHsSC8fUc4"
      },
      "source": [
        "while True:\n",
        "    closest_centroids = data['closest'].copy(deep=True)\n",
        "    centroids = update(centroids)\n",
        "    data = assignment(data, centroids)\n",
        "    if closest_centroids.equals(data['closest']):\n",
        "        break"
      ],
      "execution_count": null,
      "outputs": []
    },
    {
      "cell_type": "code",
      "metadata": {
        "id": "_cYwLg_Wfiq1",
        "outputId": "6470e2f8-edeb-400c-eafd-2057e1cd5e7e",
        "colab": {
          "base_uri": "https://localhost:8080/",
          "height": 322
        }
      },
      "source": [
        "fig = plt.figure(figsize=(5, 5))\n",
        "plt.scatter(data['SepalLengthCm'], data['SepalWidthCm'], color=data['color'], alpha=0.3)\n",
        "for i in centroids.keys():\n",
        "    plt.scatter(centroids[i][0],centroids[i][1], color=colmap[i], edgecolor='k')\n",
        "\n",
        "plt.show()"
      ],
      "execution_count": null,
      "outputs": [
        {
          "output_type": "display_data",
          "data": {
            "image/png": "[encoded data removed]",
            "text/plain": [
              "<Figure size 360x360 with 1 Axes>"
            ]
          },
          "metadata": {
            "tags": []
          }
        }
      ]
    },
    {
      "cell_type": "markdown",
      "metadata": {
        "id": "HVacSxHefp2n"
      },
      "source": [
        "# ***FOR NEXT 2 FEATURES***"
      ]
    },
    {
      "cell_type": "markdown",
      "metadata": {
        "id": "PsfAQCVmfvpp"
      },
      "source": [
        "*PLOT CENTROID*"
      ]
    },
    {
      "cell_type": "code",
      "metadata": {
        "id": "ZXnQbQG6f0V8"
      },
      "source": [
        "centroids = {}\n",
        "for i in range(3):\n",
        "    result_list = []\n",
        "    result_list.append(df.loc[df['Species'] == i]['PetalLengthCm'].mean())\n",
        "    result_list.append(df.loc[df['Species'] == i]['PetalWidthCm'].mean())\n",
        "    \n",
        "    centroids[i] = result_list"
      ],
      "execution_count": null,
      "outputs": []
    },
    {
      "cell_type": "code",
      "metadata": {
        "id": "BAgERUJuf3CK",
        "outputId": "dbd7c24c-be72-4ef0-fd3d-9d49e39958f1",
        "colab": {
          "base_uri": "https://localhost:8080/"
        }
      },
      "source": [
        "centroids"
      ],
      "execution_count": null,
      "outputs": [
        {
          "output_type": "execute_result",
          "data": {
            "text/plain": [
              "{0: [1.464, 0.2439999999999999],\n",
              " 1: [4.26, 1.3259999999999998],\n",
              " 2: [5.552, 2.026]}"
            ]
          },
          "metadata": {
            "tags": []
          },
          "execution_count": 36
        }
      ]
    },
    {
      "cell_type": "code",
      "metadata": {
        "id": "2-daVNTZf5N1",
        "outputId": "435ad658-2afd-4652-e4a9-bf056e92ce4b",
        "colab": {
          "base_uri": "https://localhost:8080/",
          "height": 347
        }
      },
      "source": [
        "colmap = {0: 'r', 1: 'g', 2: 'b'}\n",
        "for i in range(3):\n",
        "    plt.scatter(centroids[i][0],centroids[i][1], color=colmap[i])\n",
        "plt.show()"
      ],
      "execution_count": null,
      "outputs": [
        {
          "output_type": "display_data",
          "data": {
            "image/png": "[encoded data removed]",
            "text/plain": [
              "<Figure size 576x396 with 1 Axes>"
            ]
          },
          "metadata": {
            "tags": []
          }
        }
      ]
    },
    {
      "cell_type": "markdown",
      "metadata": {
        "id": "BS74fAnfgJHf"
      },
      "source": [
        "*UPDATE DATAFRAME BY CALCULATING DISTANCE*"
      ]
    },
    {
      "cell_type": "code",
      "metadata": {
        "id": "GCKatbaYgJxo"
      },
      "source": [
        "def assignment(df, centroids):\n",
        "    for i in range(3):\n",
        "        # sqrt((x1 - x2)^2 + (y1 - y2)^2)\n",
        "        df['distance_from_{}'.format(i)] = (\n",
        "            np.sqrt(\n",
        "                (df['PetalLengthCm'] - centroids[i][0]) ** 2\n",
        "                + (df['PetalWidthCm'] - centroids[i][1]) ** 2\n",
        "            )\n",
        "        )\n",
        "    centroid_distance_cols = ['distance_from_{}'.format(i) for i in centroids.keys()]\n",
        "    df['closest'] = df.loc[:, centroid_distance_cols].idxmin(axis=1)\n",
        "    df['closest'] = df['closest'].map(lambda x: int(x.lstrip('distance_from_')))\n",
        "    df['color'] = df['closest'].map(lambda x: colmap[x])\n",
        "    return df"
      ],
      "execution_count": null,
      "outputs": []
    },
    {
      "cell_type": "code",
      "metadata": {
        "id": "sZBHQG9IgMKt"
      },
      "source": [
        "df = assignment(df, centroids)"
      ],
      "execution_count": null,
      "outputs": []
    },
    {
      "cell_type": "code",
      "metadata": {
        "id": "bxM2qx-9gOVA",
        "outputId": "a824cf4b-039a-4cfb-96e1-a6211e3ceeac",
        "colab": {
          "base_uri": "https://localhost:8080/",
          "height": 399
        }
      },
      "source": [
        "df"
      ],
      "execution_count": null,
      "outputs": [
        {
          "output_type": "execute_result",
          "data": {
            "text/html": [
              "<div>\n",
              "<style scoped>\n",
              "    .dataframe tbody tr th:only-of-type {\n",
              "        vertical-align: middle;\n",
              "    }\n",
              "\n",
              "    .dataframe tbody tr th {\n",
              "        vertical-align: top;\n",
              "    }\n",
              "\n",
              "    .dataframe thead th {\n",
              "        text-align: right;\n",
              "    }\n",
              "</style>\n",
              "<table border=\"1\" class=\"dataframe\">\n",
              "  <thead>\n",
              "    <tr style=\"text-align: right;\">\n",
              "      <th></th>\n",
              "      <th>Id</th>\n",
              "      <th>SepalLengthCm</th>\n",
              "      <th>SepalWidthCm</th>\n",
              "      <th>PetalLengthCm</th>\n",
              "      <th>PetalWidthCm</th>\n",
              "      <th>Species</th>\n",
              "      <th>distance_from_0</th>\n",
              "      <th>distance_from_1</th>\n",
              "      <th>distance_from_2</th>\n",
              "      <th>closest</th>\n",
              "      <th>color</th>\n",
              "    </tr>\n",
              "  </thead>\n",
              "  <tbody>\n",
              "    <tr>\n",
              "      <th>0</th>\n",
              "      <td>1</td>\n",
              "      <td>5.1</td>\n",
              "      <td>3.5</td>\n",
              "      <td>1.4</td>\n",
              "      <td>0.2</td>\n",
              "      <td>0</td>\n",
              "      <td>0.077666</td>\n",
              "      <td>3.073675</td>\n",
              "      <td>4.535789</td>\n",
              "      <td>0</td>\n",
              "      <td>r</td>\n",
              "    </tr>\n",
              "    <tr>\n",
              "      <th>1</th>\n",
              "      <td>2</td>\n",
              "      <td>4.9</td>\n",
              "      <td>3.0</td>\n",
              "      <td>1.4</td>\n",
              "      <td>0.2</td>\n",
              "      <td>0</td>\n",
              "      <td>0.077666</td>\n",
              "      <td>3.073675</td>\n",
              "      <td>4.535789</td>\n",
              "      <td>0</td>\n",
              "      <td>r</td>\n",
              "    </tr>\n",
              "    <tr>\n",
              "      <th>2</th>\n",
              "      <td>3</td>\n",
              "      <td>4.7</td>\n",
              "      <td>3.2</td>\n",
              "      <td>1.3</td>\n",
              "      <td>0.2</td>\n",
              "      <td>0</td>\n",
              "      <td>0.169800</td>\n",
              "      <td>3.166935</td>\n",
              "      <td>4.627503</td>\n",
              "      <td>0</td>\n",
              "      <td>r</td>\n",
              "    </tr>\n",
              "    <tr>\n",
              "      <th>3</th>\n",
              "      <td>4</td>\n",
              "      <td>4.6</td>\n",
              "      <td>3.1</td>\n",
              "      <td>1.5</td>\n",
              "      <td>0.2</td>\n",
              "      <td>0</td>\n",
              "      <td>0.056851</td>\n",
              "      <td>2.980852</td>\n",
              "      <td>4.444432</td>\n",
              "      <td>0</td>\n",
              "      <td>r</td>\n",
              "    </tr>\n",
              "    <tr>\n",
              "      <th>4</th>\n",
              "      <td>5</td>\n",
              "      <td>5.0</td>\n",
              "      <td>3.6</td>\n",
              "      <td>1.4</td>\n",
              "      <td>0.2</td>\n",
              "      <td>0</td>\n",
              "      <td>0.077666</td>\n",
              "      <td>3.073675</td>\n",
              "      <td>4.535789</td>\n",
              "      <td>0</td>\n",
              "      <td>r</td>\n",
              "    </tr>\n",
              "    <tr>\n",
              "      <th>...</th>\n",
              "      <td>...</td>\n",
              "      <td>...</td>\n",
              "      <td>...</td>\n",
              "      <td>...</td>\n",
              "      <td>...</td>\n",
              "      <td>...</td>\n",
              "      <td>...</td>\n",
              "      <td>...</td>\n",
              "      <td>...</td>\n",
              "      <td>...</td>\n",
              "      <td>...</td>\n",
              "    </tr>\n",
              "    <tr>\n",
              "      <th>145</th>\n",
              "      <td>146</td>\n",
              "      <td>6.7</td>\n",
              "      <td>3.0</td>\n",
              "      <td>5.2</td>\n",
              "      <td>2.3</td>\n",
              "      <td>2</td>\n",
              "      <td>4.264368</td>\n",
              "      <td>1.353616</td>\n",
              "      <td>0.446072</td>\n",
              "      <td>2</td>\n",
              "      <td>b</td>\n",
              "    </tr>\n",
              "    <tr>\n",
              "      <th>146</th>\n",
              "      <td>147</td>\n",
              "      <td>6.3</td>\n",
              "      <td>2.5</td>\n",
              "      <td>5.0</td>\n",
              "      <td>1.9</td>\n",
              "      <td>2</td>\n",
              "      <td>3.904566</td>\n",
              "      <td>0.936523</td>\n",
              "      <td>0.566198</td>\n",
              "      <td>2</td>\n",
              "      <td>b</td>\n",
              "    </tr>\n",
              "    <tr>\n",
              "      <th>147</th>\n",
              "      <td>148</td>\n",
              "      <td>6.5</td>\n",
              "      <td>3.0</td>\n",
              "      <td>5.2</td>\n",
              "      <td>2.0</td>\n",
              "      <td>2</td>\n",
              "      <td>4.128103</td>\n",
              "      <td>1.156666</td>\n",
              "      <td>0.352959</td>\n",
              "      <td>2</td>\n",
              "      <td>b</td>\n",
              "    </tr>\n",
              "    <tr>\n",
              "      <th>148</th>\n",
              "      <td>149</td>\n",
              "      <td>6.2</td>\n",
              "      <td>3.4</td>\n",
              "      <td>5.4</td>\n",
              "      <td>2.3</td>\n",
              "      <td>2</td>\n",
              "      <td>4.440634</td>\n",
              "      <td>1.499425</td>\n",
              "      <td>0.313337</td>\n",
              "      <td>2</td>\n",
              "      <td>b</td>\n",
              "    </tr>\n",
              "    <tr>\n",
              "      <th>149</th>\n",
              "      <td>150</td>\n",
              "      <td>5.9</td>\n",
              "      <td>3.0</td>\n",
              "      <td>5.1</td>\n",
              "      <td>1.8</td>\n",
              "      <td>2</td>\n",
              "      <td>3.954950</td>\n",
              "      <td>0.964508</td>\n",
              "      <td>0.505351</td>\n",
              "      <td>2</td>\n",
              "      <td>b</td>\n",
              "    </tr>\n",
              "  </tbody>\n",
              "</table>\n",
              "<p>150 rows × 11 columns</p>\n",
              "</div>"
            ],
            "text/plain": [
              "      Id  SepalLengthCm  SepalWidthCm  ...  distance_from_2  closest  color\n",
              "0      1            5.1           3.5  ...         4.535789        0      r\n",
              "1      2            4.9           3.0  ...         4.535789        0      r\n",
              "2      3            4.7           3.2  ...         4.627503        0      r\n",
              "3      4            4.6           3.1  ...         4.444432        0      r\n",
              "4      5            5.0           3.6  ...         4.535789        0      r\n",
              "..   ...            ...           ...  ...              ...      ...    ...\n",
              "145  146            6.7           3.0  ...         0.446072        2      b\n",
              "146  147            6.3           2.5  ...         0.566198        2      b\n",
              "147  148            6.5           3.0  ...         0.352959        2      b\n",
              "148  149            6.2           3.4  ...         0.313337        2      b\n",
              "149  150            5.9           3.0  ...         0.505351        2      b\n",
              "\n",
              "[150 rows x 11 columns]"
            ]
          },
          "metadata": {
            "tags": []
          },
          "execution_count": 40
        }
      ]
    },
    {
      "cell_type": "markdown",
      "metadata": {
        "id": "s_g0qXoUgVIk"
      },
      "source": [
        "*VISUALIZE CLUSTERS*"
      ]
    },
    {
      "cell_type": "code",
      "metadata": {
        "id": "tF5Ma0tcgY2U",
        "outputId": "e1801f8a-0c1b-4801-bbf5-8340f347a1b5",
        "colab": {
          "base_uri": "https://localhost:8080/",
          "height": 320
        }
      },
      "source": [
        "fig = plt.figure(figsize=(5, 5))\n",
        "plt.scatter(df['PetalLengthCm'], df['PetalWidthCm'], color=df['color'], alpha=0.3)\n",
        "for i in centroids.keys():\n",
        "    plt.scatter(*centroids[i], color=colmap[i], edgecolor='k')\n",
        "\n",
        "plt.show()"
      ],
      "execution_count": null,
      "outputs": [
        {
          "output_type": "display_data",
          "data": {
            "image/png": "[encoded data removed]",
            "text/plain": [
              "<Figure size 360x360 with 1 Axes>"
            ]
          },
          "metadata": {
            "tags": []
          }
        }
      ]
    },
    {
      "cell_type": "markdown",
      "metadata": {
        "id": "5R4aOHOBgi7L"
      },
      "source": [
        "*VISUALIZE CLUSTERS WITH UPDATED CENTROIDS*"
      ]
    },
    {
      "cell_type": "code",
      "metadata": {
        "id": "H4qIqWU4ga-H"
      },
      "source": [
        "def update(k):\n",
        "    for i in range(3):\n",
        "        centroids[i][0] = np.mean(df[df['closest'] == i]['PetalLengthCm'])\n",
        "        centroids[i][1] = np.mean(df[df['closest'] == i]['PetalWidthCm'])\n",
        "    return k"
      ],
      "execution_count": null,
      "outputs": []
    },
    {
      "cell_type": "code",
      "metadata": {
        "id": "owYhSajwgnRg",
        "outputId": "42c38fed-009c-40f6-e75e-7048df96ed85",
        "colab": {
          "base_uri": "https://localhost:8080/"
        }
      },
      "source": [
        "centroids = update(centroids)\n",
        "centroids"
      ],
      "execution_count": null,
      "outputs": [
        {
          "output_type": "execute_result",
          "data": {
            "text/plain": [
              "{0: [1.464, 0.2439999999999999],\n",
              " 1: [4.269230769230769, 1.342307692307692],\n",
              " 2: [5.595833333333332, 2.0374999999999996]}"
            ]
          },
          "metadata": {
            "tags": []
          },
          "execution_count": 43
        }
      ]
    },
    {
      "cell_type": "code",
      "metadata": {
        "id": "GzoNdriQgpUe",
        "outputId": "d9534700-953c-4597-ed3c-650fbd271039",
        "colab": {
          "base_uri": "https://localhost:8080/",
          "height": 320
        }
      },
      "source": [
        "fig = plt.figure(figsize=(5, 5))\n",
        "plt.scatter(df['PetalLengthCm'], df['PetalWidthCm'], color=df['color'], alpha=0.3)\n",
        "for i in centroids.keys():\n",
        "    plt.scatter(*centroids[i], color=colmap[i], edgecolor='k')\n",
        "\n",
        "plt.show()"
      ],
      "execution_count": null,
      "outputs": [
        {
          "output_type": "display_data",
          "data": {
            "image/png": "[encoded data removed]",
            "text/plain": [
              "<Figure size 360x360 with 1 Axes>"
            ]
          },
          "metadata": {
            "tags": []
          }
        }
      ]
    },
    {
      "cell_type": "code",
      "metadata": {
        "id": "x7LgdX0bgrX_"
      },
      "source": [
        "df = assignment(df, centroids)"
      ],
      "execution_count": null,
      "outputs": []
    },
    {
      "cell_type": "code",
      "metadata": {
        "id": "56tj9hhLgub-",
        "outputId": "9f5574aa-4d07-47c4-e6be-be32e3786e1a",
        "colab": {
          "base_uri": "https://localhost:8080/",
          "height": 320
        }
      },
      "source": [
        "fig = plt.figure(figsize=(5, 5))\n",
        "plt.scatter(df['PetalLengthCm'], df['PetalWidthCm'], color=df['color'], alpha=0.3)\n",
        "for i in centroids.keys():\n",
        "    plt.scatter(centroids[i][0],centroids[i][1], color=colmap[i], edgecolor='k')\n",
        "plt.show()"
      ],
      "execution_count": null,
      "outputs": [
        {
          "output_type": "display_data",
          "data": {
            "image/png": "[encoded data removed]",
            "text/plain": [
              "<Figure size 360x360 with 1 Axes>"
            ]
          },
          "metadata": {
            "tags": []
          }
        }
      ]
    },
    {
      "cell_type": "markdown",
      "metadata": {
        "id": "5-rC27bVg3uF"
      },
      "source": [
        "*PLOT FINAL CLUSTERS AS NO FURTHER CHANGE*"
      ]
    },
    {
      "cell_type": "code",
      "metadata": {
        "id": "cAhTJj9Rgw6x"
      },
      "source": [
        "while True:\n",
        "    closest_centroids = df['closest'].copy(deep=True)\n",
        "    centroids = update(centroids)\n",
        "    df = assignment(df, centroids)\n",
        "    if closest_centroids.equals(df['closest']):\n",
        "        break"
      ],
      "execution_count": null,
      "outputs": []
    },
    {
      "cell_type": "code",
      "metadata": {
        "id": "LRJhlvwMg7eq",
        "outputId": "1632ad4c-5b42-446e-bf4a-1c616ff63f9a",
        "colab": {
          "base_uri": "https://localhost:8080/",
          "height": 320
        }
      },
      "source": [
        "fig = plt.figure(figsize=(5, 5))\n",
        "plt.scatter(df['PetalLengthCm'], df['PetalWidthCm'], color=df['color'], alpha=0.3)\n",
        "for i in centroids.keys():\n",
        "    plt.scatter(centroids[i][0],centroids[i][1], color=colmap[i], edgecolor='k')\n",
        "\n",
        "plt.show()"
      ],
      "execution_count": null,
      "outputs": [
        {
          "output_type": "display_data",
          "data": {
            "image/png": "[encoded data removed]",
            "text/plain": [
              "<Figure size 360x360 with 1 Axes>"
            ]
          },
          "metadata": {
            "tags": []
          }
        }
      ]
    }
  ]
}